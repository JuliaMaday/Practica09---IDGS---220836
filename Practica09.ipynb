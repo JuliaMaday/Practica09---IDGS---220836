{
 "cells": [
  {
   "cell_type": "markdown",
   "id": "e7ee38cf-b8f7-48b5-a9ae-366891276d18",
   "metadata": {},
   "source": [
    "# Practica 09: Recommendation Engine w/KNN"
   ]
  },
  {
   "cell_type": "markdown",
   "id": "0329e91d-7b5a-43e0-a7de-f00ed8525e54",
   "metadata": {},
   "source": [
    "Creado por:Julia Maday Martínez Santos - 220836"
   ]
  },
  {
   "cell_type": "markdown",
   "id": "35676321-76c0-4d07-833a-88b6426b87df",
   "metadata": {},
   "source": [
    "Asignatura: Extracción de Conocimiento en Base de Datos"
   ]
  },
  {
   "cell_type": "markdown",
   "id": "392f3a31-5b7a-4512-86c1-2c76c3d1d724",
   "metadata": {},
   "source": [
    "PE: Ingeniería en Desarrollo y Gestión de Software 9°B"
   ]
  },
  {
   "cell_type": "code",
   "execution_count": 2,
   "id": "9fb82859-fd5d-4c67-b38c-343287716cda",
   "metadata": {},
   "outputs": [],
   "source": [
    "# importamos las librerias\n",
    "import numpy as np\n",
    "import pandas as pd\n",
    "import sklearn\n",
    "import matplotlib.pyplot as plt\n",
    "import seaborn as sns\n",
    "import warnings\n",
    "from scipy.sparse import csr_matrix\n",
    "from sklearn.neighbors import NearestNeighbors\n",
    "warnings.simplefilter(action='ignore', category=FutureWarning)"
   ]
  },
  {
   "cell_type": "markdown",
   "id": "cb02d1aa-92dd-4a4b-bc89-2b37efbc1be9",
   "metadata": {},
   "source": [
    "## Get Our Data"
   ]
  },
  {
   "cell_type": "code",
   "execution_count": 5,
   "id": "8d41abfc-ed19-480d-be8f-77bfa7d14796",
   "metadata": {},
   "outputs": [
    {
     "data": {
      "text/html": [
       "<div>\n",
       "<style scoped>\n",
       "    .dataframe tbody tr th:only-of-type {\n",
       "        vertical-align: middle;\n",
       "    }\n",
       "\n",
       "    .dataframe tbody tr th {\n",
       "        vertical-align: top;\n",
       "    }\n",
       "\n",
       "    .dataframe thead th {\n",
       "        text-align: right;\n",
       "    }\n",
       "</style>\n",
       "<table border=\"1\" class=\"dataframe\">\n",
       "  <thead>\n",
       "    <tr style=\"text-align: right;\">\n",
       "      <th></th>\n",
       "      <th>userId</th>\n",
       "      <th>movieId</th>\n",
       "      <th>rating</th>\n",
       "      <th>timestamp</th>\n",
       "    </tr>\n",
       "  </thead>\n",
       "  <tbody>\n",
       "    <tr>\n",
       "      <th>0</th>\n",
       "      <td>1</td>\n",
       "      <td>1</td>\n",
       "      <td>4.0</td>\n",
       "      <td>964982703</td>\n",
       "    </tr>\n",
       "    <tr>\n",
       "      <th>1</th>\n",
       "      <td>1</td>\n",
       "      <td>3</td>\n",
       "      <td>4.0</td>\n",
       "      <td>964981247</td>\n",
       "    </tr>\n",
       "    <tr>\n",
       "      <th>2</th>\n",
       "      <td>1</td>\n",
       "      <td>6</td>\n",
       "      <td>4.0</td>\n",
       "      <td>964982224</td>\n",
       "    </tr>\n",
       "    <tr>\n",
       "      <th>3</th>\n",
       "      <td>1</td>\n",
       "      <td>47</td>\n",
       "      <td>5.0</td>\n",
       "      <td>964983815</td>\n",
       "    </tr>\n",
       "    <tr>\n",
       "      <th>4</th>\n",
       "      <td>1</td>\n",
       "      <td>50</td>\n",
       "      <td>5.0</td>\n",
       "      <td>964982931</td>\n",
       "    </tr>\n",
       "  </tbody>\n",
       "</table>\n",
       "</div>"
      ],
      "text/plain": [
       "   userId  movieId  rating  timestamp\n",
       "0       1        1     4.0  964982703\n",
       "1       1        3     4.0  964981247\n",
       "2       1        6     4.0  964982224\n",
       "3       1       47     5.0  964983815\n",
       "4       1       50     5.0  964982931"
      ]
     },
     "execution_count": 5,
     "metadata": {},
     "output_type": "execute_result"
    }
   ],
   "source": [
    "ratings = pd.read_csv(\"ratings.csv\")\n",
    "ratings.head()"
   ]
  },
  {
   "cell_type": "code",
   "execution_count": 6,
   "id": "607140b7-c462-4f83-968e-950179b1d46d",
   "metadata": {},
   "outputs": [
    {
     "data": {
      "text/html": [
       "<div>\n",
       "<style scoped>\n",
       "    .dataframe tbody tr th:only-of-type {\n",
       "        vertical-align: middle;\n",
       "    }\n",
       "\n",
       "    .dataframe tbody tr th {\n",
       "        vertical-align: top;\n",
       "    }\n",
       "\n",
       "    .dataframe thead th {\n",
       "        text-align: right;\n",
       "    }\n",
       "</style>\n",
       "<table border=\"1\" class=\"dataframe\">\n",
       "  <thead>\n",
       "    <tr style=\"text-align: right;\">\n",
       "      <th></th>\n",
       "      <th>movieId</th>\n",
       "      <th>title</th>\n",
       "      <th>genres</th>\n",
       "    </tr>\n",
       "  </thead>\n",
       "  <tbody>\n",
       "    <tr>\n",
       "      <th>0</th>\n",
       "      <td>1</td>\n",
       "      <td>Toy Story (1995)</td>\n",
       "      <td>Adventure|Animation|Children|Comedy|Fantasy</td>\n",
       "    </tr>\n",
       "    <tr>\n",
       "      <th>1</th>\n",
       "      <td>2</td>\n",
       "      <td>Jumanji (1995)</td>\n",
       "      <td>Adventure|Children|Fantasy</td>\n",
       "    </tr>\n",
       "    <tr>\n",
       "      <th>2</th>\n",
       "      <td>3</td>\n",
       "      <td>Grumpier Old Men (1995)</td>\n",
       "      <td>Comedy|Romance</td>\n",
       "    </tr>\n",
       "    <tr>\n",
       "      <th>3</th>\n",
       "      <td>4</td>\n",
       "      <td>Waiting to Exhale (1995)</td>\n",
       "      <td>Comedy|Drama|Romance</td>\n",
       "    </tr>\n",
       "    <tr>\n",
       "      <th>4</th>\n",
       "      <td>5</td>\n",
       "      <td>Father of the Bride Part II (1995)</td>\n",
       "      <td>Comedy</td>\n",
       "    </tr>\n",
       "  </tbody>\n",
       "</table>\n",
       "</div>"
      ],
      "text/plain": [
       "   movieId                               title  \\\n",
       "0        1                    Toy Story (1995)   \n",
       "1        2                      Jumanji (1995)   \n",
       "2        3             Grumpier Old Men (1995)   \n",
       "3        4            Waiting to Exhale (1995)   \n",
       "4        5  Father of the Bride Part II (1995)   \n",
       "\n",
       "                                        genres  \n",
       "0  Adventure|Animation|Children|Comedy|Fantasy  \n",
       "1                   Adventure|Children|Fantasy  \n",
       "2                               Comedy|Romance  \n",
       "3                         Comedy|Drama|Romance  \n",
       "4                                       Comedy  "
      ]
     },
     "execution_count": 6,
     "metadata": {},
     "output_type": "execute_result"
    }
   ],
   "source": [
    "movies = pd.read_csv(\"movies.csv\")\n",
    "movies.head()"
   ]
  },
  {
   "cell_type": "markdown",
   "id": "e7fc78c3-5eae-4f3c-89c0-07eb443af7de",
   "metadata": {},
   "source": [
    "### Lets Do Some Basic Analysis"
   ]
  },
  {
   "cell_type": "code",
   "execution_count": 7,
   "id": "fd875b48-f92c-4c3d-8341-1ce634a0120d",
   "metadata": {},
   "outputs": [
    {
     "name": "stdout",
     "output_type": "stream",
     "text": [
      "Number of ratings: 100836\n",
      "Number of unique movieId's: 9724\n",
      "Number of unique users: 610\n",
      "Average ratings per user: 165.3\n",
      "Average ratings per movie: 10.37\n"
     ]
    }
   ],
   "source": [
    "n_ratings = len(ratings)\n",
    "n_movies = len(ratings['movieId'].unique())\n",
    "n_users = len(ratings['userId'].unique())\n",
    "print(f\"Number of ratings: {n_ratings}\")\n",
    "print(f\"Number of unique movieId's: {n_movies}\")\n",
    "print(f\"Number of unique users: {n_users}\")\n",
    "print(f\"Average ratings per user: {round(n_ratings/n_users, 2)}\")\n",
    "print(f\"Average ratings per movie: {round(n_ratings/n_movies, 2)}\")"
   ]
  },
  {
   "cell_type": "markdown",
   "id": "7775da24-ad01-40d3-8c8d-706d4271e796",
   "metadata": {},
   "source": [
    "### User Frequency"
   ]
  },
  {
   "cell_type": "code",
   "execution_count": 8,
   "id": "a3a00dac-e79c-4be3-8339-8cf66c6b9f4c",
   "metadata": {},
   "outputs": [
    {
     "data": {
      "text/html": [
       "<div>\n",
       "<style scoped>\n",
       "    .dataframe tbody tr th:only-of-type {\n",
       "        vertical-align: middle;\n",
       "    }\n",
       "\n",
       "    .dataframe tbody tr th {\n",
       "        vertical-align: top;\n",
       "    }\n",
       "\n",
       "    .dataframe thead th {\n",
       "        text-align: right;\n",
       "    }\n",
       "</style>\n",
       "<table border=\"1\" class=\"dataframe\">\n",
       "  <thead>\n",
       "    <tr style=\"text-align: right;\">\n",
       "      <th></th>\n",
       "      <th>userId</th>\n",
       "      <th>n_ratings</th>\n",
       "    </tr>\n",
       "  </thead>\n",
       "  <tbody>\n",
       "    <tr>\n",
       "      <th>0</th>\n",
       "      <td>1</td>\n",
       "      <td>232</td>\n",
       "    </tr>\n",
       "    <tr>\n",
       "      <th>1</th>\n",
       "      <td>2</td>\n",
       "      <td>29</td>\n",
       "    </tr>\n",
       "    <tr>\n",
       "      <th>2</th>\n",
       "      <td>3</td>\n",
       "      <td>39</td>\n",
       "    </tr>\n",
       "    <tr>\n",
       "      <th>3</th>\n",
       "      <td>4</td>\n",
       "      <td>216</td>\n",
       "    </tr>\n",
       "    <tr>\n",
       "      <th>4</th>\n",
       "      <td>5</td>\n",
       "      <td>44</td>\n",
       "    </tr>\n",
       "  </tbody>\n",
       "</table>\n",
       "</div>"
      ],
      "text/plain": [
       "   userId  n_ratings\n",
       "0       1        232\n",
       "1       2         29\n",
       "2       3         39\n",
       "3       4        216\n",
       "4       5         44"
      ]
     },
     "execution_count": 8,
     "metadata": {},
     "output_type": "execute_result"
    }
   ],
   "source": [
    "user_freq = ratings[['userId', 'movieId']].groupby('userId').count().reset_index()\n",
    "user_freq.columns = ['userId', 'n_ratings']\n",
    "user_freq.head()"
   ]
  },
  {
   "cell_type": "markdown",
   "id": "c310b622-b57d-45dc-a3d7-7fd0f158efc5",
   "metadata": {},
   "source": [
    "## Ranking vs. Recommendation"
   ]
  },
  {
   "cell_type": "markdown",
   "id": "ad6c4654-3a3f-4939-9abc-4b8bb2981779",
   "metadata": {},
   "source": [
    "### Lowest and Highest rated movies"
   ]
  },
  {
   "cell_type": "code",
   "execution_count": 9,
   "id": "9c756c36-a5da-4da1-8486-c7271141c601",
   "metadata": {},
   "outputs": [
    {
     "data": {
      "text/html": [
       "<div>\n",
       "<style scoped>\n",
       "    .dataframe tbody tr th:only-of-type {\n",
       "        vertical-align: middle;\n",
       "    }\n",
       "\n",
       "    .dataframe tbody tr th {\n",
       "        vertical-align: top;\n",
       "    }\n",
       "\n",
       "    .dataframe thead th {\n",
       "        text-align: right;\n",
       "    }\n",
       "</style>\n",
       "<table border=\"1\" class=\"dataframe\">\n",
       "  <thead>\n",
       "    <tr style=\"text-align: right;\">\n",
       "      <th></th>\n",
       "      <th>rating</th>\n",
       "    </tr>\n",
       "    <tr>\n",
       "      <th>movieId</th>\n",
       "      <th></th>\n",
       "    </tr>\n",
       "  </thead>\n",
       "  <tbody>\n",
       "    <tr>\n",
       "      <th>26696</th>\n",
       "      <td>0.5</td>\n",
       "    </tr>\n",
       "    <tr>\n",
       "      <th>3604</th>\n",
       "      <td>0.5</td>\n",
       "    </tr>\n",
       "    <tr>\n",
       "      <th>7312</th>\n",
       "      <td>0.5</td>\n",
       "    </tr>\n",
       "    <tr>\n",
       "      <th>145724</th>\n",
       "      <td>0.5</td>\n",
       "    </tr>\n",
       "    <tr>\n",
       "      <th>76030</th>\n",
       "      <td>0.5</td>\n",
       "    </tr>\n",
       "    <tr>\n",
       "      <th>...</th>\n",
       "      <td>...</td>\n",
       "    </tr>\n",
       "    <tr>\n",
       "      <th>3851</th>\n",
       "      <td>5.0</td>\n",
       "    </tr>\n",
       "    <tr>\n",
       "      <th>128087</th>\n",
       "      <td>5.0</td>\n",
       "    </tr>\n",
       "    <tr>\n",
       "      <th>33138</th>\n",
       "      <td>5.0</td>\n",
       "    </tr>\n",
       "    <tr>\n",
       "      <th>96608</th>\n",
       "      <td>5.0</td>\n",
       "    </tr>\n",
       "    <tr>\n",
       "      <th>53355</th>\n",
       "      <td>5.0</td>\n",
       "    </tr>\n",
       "  </tbody>\n",
       "</table>\n",
       "<p>9724 rows × 1 columns</p>\n",
       "</div>"
      ],
      "text/plain": [
       "         rating\n",
       "movieId        \n",
       "26696       0.5\n",
       "3604        0.5\n",
       "7312        0.5\n",
       "145724      0.5\n",
       "76030       0.5\n",
       "...         ...\n",
       "3851        5.0\n",
       "128087      5.0\n",
       "33138       5.0\n",
       "96608       5.0\n",
       "53355       5.0\n",
       "\n",
       "[9724 rows x 1 columns]"
      ]
     },
     "execution_count": 9,
     "metadata": {},
     "output_type": "execute_result"
    }
   ],
   "source": [
    "mean_rating = ratings.groupby('movieId')[['rating']].mean()\n",
    "mean_rating.sort_values(by='rating')"
   ]
  },
  {
   "cell_type": "markdown",
   "id": "8abe618e-493c-4280-b250-21236e8e03fb",
   "metadata": {},
   "source": [
    "### Lowest rated movies"
   ]
  },
  {
   "cell_type": "code",
   "execution_count": 10,
   "id": "7412dbed-f9e6-425f-aa11-40cc0c78db1a",
   "metadata": {},
   "outputs": [
    {
     "data": {
      "text/html": [
       "<div>\n",
       "<style scoped>\n",
       "    .dataframe tbody tr th:only-of-type {\n",
       "        vertical-align: middle;\n",
       "    }\n",
       "\n",
       "    .dataframe tbody tr th {\n",
       "        vertical-align: top;\n",
       "    }\n",
       "\n",
       "    .dataframe thead th {\n",
       "        text-align: right;\n",
       "    }\n",
       "</style>\n",
       "<table border=\"1\" class=\"dataframe\">\n",
       "  <thead>\n",
       "    <tr style=\"text-align: right;\">\n",
       "      <th></th>\n",
       "      <th>movieId</th>\n",
       "      <th>title</th>\n",
       "      <th>genres</th>\n",
       "    </tr>\n",
       "  </thead>\n",
       "  <tbody>\n",
       "    <tr>\n",
       "      <th>2689</th>\n",
       "      <td>3604</td>\n",
       "      <td>Gypsy (1962)</td>\n",
       "      <td>Musical</td>\n",
       "    </tr>\n",
       "  </tbody>\n",
       "</table>\n",
       "</div>"
      ],
      "text/plain": [
       "      movieId         title   genres\n",
       "2689     3604  Gypsy (1962)  Musical"
      ]
     },
     "execution_count": 10,
     "metadata": {},
     "output_type": "execute_result"
    }
   ],
   "source": [
    "lowest_rated = mean_rating['rating'].idxmin()\n",
    "movies.loc[movies['movieId'] == lowest_rated]"
   ]
  },
  {
   "cell_type": "markdown",
   "id": "46c0ad88-8191-4539-8163-74ea6d52b66c",
   "metadata": {},
   "source": [
    "### Highest rated movies"
   ]
  },
  {
   "cell_type": "code",
   "execution_count": 13,
   "id": "54835c38-f750-4136-bfeb-a78a51a04c00",
   "metadata": {},
   "outputs": [
    {
     "data": {
      "text/html": [
       "<div>\n",
       "<style scoped>\n",
       "    .dataframe tbody tr th:only-of-type {\n",
       "        vertical-align: middle;\n",
       "    }\n",
       "\n",
       "    .dataframe tbody tr th {\n",
       "        vertical-align: top;\n",
       "    }\n",
       "\n",
       "    .dataframe thead th {\n",
       "        text-align: right;\n",
       "    }\n",
       "</style>\n",
       "<table border=\"1\" class=\"dataframe\">\n",
       "  <thead>\n",
       "    <tr style=\"text-align: right;\">\n",
       "      <th></th>\n",
       "      <th>movieId</th>\n",
       "      <th>title</th>\n",
       "      <th>genres</th>\n",
       "    </tr>\n",
       "  </thead>\n",
       "  <tbody>\n",
       "    <tr>\n",
       "      <th>48</th>\n",
       "      <td>53</td>\n",
       "      <td>Lamerica (1994)</td>\n",
       "      <td>Adventure|Drama</td>\n",
       "    </tr>\n",
       "  </tbody>\n",
       "</table>\n",
       "</div>"
      ],
      "text/plain": [
       "    movieId            title           genres\n",
       "48       53  Lamerica (1994)  Adventure|Drama"
      ]
     },
     "execution_count": 13,
     "metadata": {},
     "output_type": "execute_result"
    }
   ],
   "source": [
    "highest_rated = mean_rating['rating'].idxmax()\n",
    "movies.loc[movies['movieId'] == highest_rated] "
   ]
  },
  {
   "cell_type": "markdown",
   "id": "ffa2e6eb-9cc7-4c1b-9e0a-361fac9bca68",
   "metadata": {},
   "source": [
    "### Number of people who rated movies rated movie highest"
   ]
  },
  {
   "cell_type": "code",
   "execution_count": 14,
   "id": "9d9f02b4-1355-4675-885d-a6d1e672bf54",
   "metadata": {},
   "outputs": [
    {
     "data": {
      "text/html": [
       "<div>\n",
       "<style scoped>\n",
       "    .dataframe tbody tr th:only-of-type {\n",
       "        vertical-align: middle;\n",
       "    }\n",
       "\n",
       "    .dataframe tbody tr th {\n",
       "        vertical-align: top;\n",
       "    }\n",
       "\n",
       "    .dataframe thead th {\n",
       "        text-align: right;\n",
       "    }\n",
       "</style>\n",
       "<table border=\"1\" class=\"dataframe\">\n",
       "  <thead>\n",
       "    <tr style=\"text-align: right;\">\n",
       "      <th></th>\n",
       "      <th>userId</th>\n",
       "      <th>movieId</th>\n",
       "      <th>rating</th>\n",
       "      <th>timestamp</th>\n",
       "    </tr>\n",
       "  </thead>\n",
       "  <tbody>\n",
       "    <tr>\n",
       "      <th>13368</th>\n",
       "      <td>85</td>\n",
       "      <td>53</td>\n",
       "      <td>5.0</td>\n",
       "      <td>889468268</td>\n",
       "    </tr>\n",
       "    <tr>\n",
       "      <th>96115</th>\n",
       "      <td>603</td>\n",
       "      <td>53</td>\n",
       "      <td>5.0</td>\n",
       "      <td>963180003</td>\n",
       "    </tr>\n",
       "  </tbody>\n",
       "</table>\n",
       "</div>"
      ],
      "text/plain": [
       "       userId  movieId  rating  timestamp\n",
       "13368      85       53     5.0  889468268\n",
       "96115     603       53     5.0  963180003"
      ]
     },
     "execution_count": 14,
     "metadata": {},
     "output_type": "execute_result"
    }
   ],
   "source": [
    "ratings[ratings['movieId']==highest_rated]"
   ]
  },
  {
   "cell_type": "markdown",
   "id": "b596dd76-17ed-4f78-ba11-245f57dcf620",
   "metadata": {},
   "source": [
    "### Number of people who rated movies rated movie lowest"
   ]
  },
  {
   "cell_type": "code",
   "execution_count": 15,
   "id": "f2bb92fc-da75-43a9-b72b-d60c4e5d5078",
   "metadata": {},
   "outputs": [
    {
     "data": {
      "text/html": [
       "<div>\n",
       "<style scoped>\n",
       "    .dataframe tbody tr th:only-of-type {\n",
       "        vertical-align: middle;\n",
       "    }\n",
       "\n",
       "    .dataframe tbody tr th {\n",
       "        vertical-align: top;\n",
       "    }\n",
       "\n",
       "    .dataframe thead th {\n",
       "        text-align: right;\n",
       "    }\n",
       "</style>\n",
       "<table border=\"1\" class=\"dataframe\">\n",
       "  <thead>\n",
       "    <tr style=\"text-align: right;\">\n",
       "      <th></th>\n",
       "      <th>userId</th>\n",
       "      <th>movieId</th>\n",
       "      <th>rating</th>\n",
       "      <th>timestamp</th>\n",
       "    </tr>\n",
       "  </thead>\n",
       "  <tbody>\n",
       "    <tr>\n",
       "      <th>13633</th>\n",
       "      <td>89</td>\n",
       "      <td>3604</td>\n",
       "      <td>0.5</td>\n",
       "      <td>1520408880</td>\n",
       "    </tr>\n",
       "  </tbody>\n",
       "</table>\n",
       "</div>"
      ],
      "text/plain": [
       "       userId  movieId  rating   timestamp\n",
       "13633      89     3604     0.5  1520408880"
      ]
     },
     "execution_count": 15,
     "metadata": {},
     "output_type": "execute_result"
    }
   ],
   "source": [
    "ratings[ratings['movieId']==lowest_rated]"
   ]
  },
  {
   "cell_type": "markdown",
   "id": "fbd03451-c417-402b-9693-a53ffd392355",
   "metadata": {},
   "source": [
    "## Matrix Factorization"
   ]
  },
  {
   "cell_type": "code",
   "execution_count": 16,
   "id": "de92b2e4-ed52-40cd-a6c4-c9f1762f3640",
   "metadata": {},
   "outputs": [],
   "source": [
    "class MovieRecommender:\n",
    "    \n",
    "    \"\"\"\n",
    "    Recommendation Class \n",
    "        \n",
    "    \"\"\"\n",
    "    \n",
    "    def __init__(self,movie_name='Toy',number_of_recommend=10):\n",
    "        \n",
    "        print('\\033[4m'+'\\033[1m'+'Trying to find similar movies'+'\\033[0m')\n",
    "        try:\n",
    "            ratings,movies,movie_titles,idd_ = self.get_instances(movie_name)\n",
    "            self.movie_name = movie_name\n",
    "            self.movies = movies\n",
    "            self.movie_titles = movie_titles\n",
    "            self.ratings = ratings\n",
    "            self.idd_ = idd_\n",
    "            self.number_of_recommend = number_of_recommend\n",
    "\n",
    "            matrix_crs, user_mapper, self.movie_mapper, self.user_inv_mapper, self.movie_inv_mapper = self.matrix(self.ratings)\n",
    "            neighbour_ids = self.predict_(self.idd_,matrix_crs,k=number_of_recommend)\n",
    "            self.recommend(neighbour_ids,movie_titles)\n",
    "            print('\\nDone')\n",
    "        except:\n",
    "               print('Movie not founded!')\n",
    "\n",
    "    \n",
    "    \n",
    "    def matrix(self,df):\n",
    "\n",
    "        user_unique = len(df['userId'].unique())\n",
    "        movie_unique = len(df['movieId'].unique())\n",
    "\n",
    "        # Map Ids to indices\n",
    "        user_mapper = dict(zip(np.unique(df[\"userId\"]), list(range(user_unique))))\n",
    "        movie_mapper = dict(zip(np.unique(df[\"movieId\"]), list(range(movie_unique))))\n",
    "\n",
    "        # Map indices to IDs\n",
    "        user_inv_mapper = dict(zip(list(range(user_unique)), np.unique(df[\"userId\"])))\n",
    "        movie_inv_mapper = dict(zip(list(range(movie_unique)), np.unique(df[\"movieId\"])))\n",
    "\n",
    "        user_index = [user_mapper[i] for i in df['userId']]\n",
    "        movie_index = [movie_mapper[i] for i in df['movieId']]\n",
    "\n",
    "        matrix = csr_matrix((df[\"rating\"], (movie_index, user_index)), shape=(movie_unique, user_unique))\n",
    "\n",
    "        return matrix, user_mapper, movie_mapper, user_inv_mapper, movie_inv_mapper\n",
    "\n",
    "    \n",
    "    def predict_(self,movie_id, data, k, metric='cosine', show_distance=False):\n",
    "\n",
    "        neighbour_ids = []\n",
    "\n",
    "        movie_ind = self.movie_mapper[movie_id]\n",
    "        movie_vec = data[movie_ind]\n",
    "        k+=1\n",
    "        kNN = NearestNeighbors(n_neighbors=k, algorithm=\"brute\", metric=metric)\n",
    "        kNN.fit(data)\n",
    "        movie_vec = movie_vec.reshape(1,-1)\n",
    "        neighbour = kNN.kneighbors(movie_vec, return_distance=show_distance)\n",
    "        for i in range(0,k):\n",
    "            n = neighbour.item(i)\n",
    "            neighbour_ids.append(self.movie_inv_mapper[n])\n",
    "        neighbour_ids.pop(0)\n",
    "        return neighbour_ids\n",
    "\n",
    "    def recommend(self,similar_ids,movie_titles):\n",
    "        \n",
    "        print('\\033[1m'f\"\\nRecommendation for movie : {self.movie_name}\\n\")\n",
    "        for i in similar_ids:\n",
    "            print('\\033[1m'+'\\033[92m'+movie_titles[i])\n",
    "            \n",
    "    def get_instances(self,movie_name):\n",
    "\n",
    "        ratings = pd.read_csv(\"ratings.csv\")\n",
    "        movies = pd.read_csv(\"movies.csv\")\n",
    "        movie_titles = dict(zip(movies['movieId'], movies['title']))\n",
    "        movie_table = pd.DataFrame(movie_titles.items(),columns=['movie_id','movie_name'])\n",
    "        movie_table['movie_name'] = movie_table['movie_name'].str.lower()\n",
    "        idd_ = pd.DataFrame(movie_table.movie_id.where(movie_table['movie_name'].str.contains(str(movie_name).lower())))\n",
    "        idd_ = int(idd_[idd_.movie_id.notna()]['movie_id'].iloc[0])\n",
    "        return ratings,movies,movie_titles,idd_"
   ]
  },
  {
   "cell_type": "markdown",
   "id": "7b7f091f-0a5d-447c-9a3a-b7fa4809b550",
   "metadata": {},
   "source": [
    "### Recommend Movie\n",
    "(With KNN)"
   ]
  },
  {
   "cell_type": "code",
   "execution_count": 17,
   "id": "47a0ddb5-b12f-42ec-b8d2-07887afd8bd3",
   "metadata": {},
   "outputs": [
    {
     "name": "stdout",
     "output_type": "stream",
     "text": [
      "\u001b[4m\u001b[1mTrying to find similar movies\u001b[0m\n",
      "\u001b[1m\n",
      "Recommendation for movie : Spider-man\n",
      "\n",
      "\u001b[1m\u001b[92mSpider-Man 2 (2004)\n",
      "\u001b[1m\u001b[92mStar Wars: Episode II - Attack of the Clones (2002)\n",
      "\u001b[1m\u001b[92mMinority Report (2002)\n",
      "\u001b[1m\u001b[92mX2: X-Men United (2003)\n",
      "\u001b[1m\u001b[92mX-Men (2000)\n",
      "\u001b[1m\u001b[92mPirates of the Caribbean: The Curse of the Black Pearl (2003)\n",
      "\u001b[1m\u001b[92mLord of the Rings: The Fellowship of the Ring, The (2001)\n",
      "\n",
      "Done\n"
     ]
    },
    {
     "data": {
      "text/plain": [
       "<__main__.MovieRecommender at 0x1db6ad38e90>"
      ]
     },
     "execution_count": 17,
     "metadata": {},
     "output_type": "execute_result"
    }
   ],
   "source": [
    "MovieRecommender('Spider-man',number_of_recommend=7)"
   ]
  },
  {
   "cell_type": "code",
   "execution_count": 18,
   "id": "0588783a-de88-4408-99e3-b91589227ecc",
   "metadata": {},
   "outputs": [
    {
     "name": "stdout",
     "output_type": "stream",
     "text": [
      "\u001b[4m\u001b[1mTrying to find similar movies\u001b[0m\n",
      "\u001b[1m\n",
      "Recommendation for movie : avatar\n",
      "\n",
      "\u001b[1m\u001b[92mUp (2009)\n",
      "\u001b[1m\u001b[92mIron Man (2008)\n",
      "\u001b[1m\u001b[92mDistrict 9 (2009)\n",
      "\u001b[1m\u001b[92mWALL·E (2008)\n",
      "\u001b[1m\u001b[92mHangover, The (2009)\n",
      "\n",
      "Done\n"
     ]
    },
    {
     "data": {
      "text/plain": [
       "<__main__.MovieRecommender at 0x1db6b0c3e30>"
      ]
     },
     "execution_count": 18,
     "metadata": {},
     "output_type": "execute_result"
    }
   ],
   "source": [
    "MovieRecommender('avatar',number_of_recommend=5)"
   ]
  },
  {
   "cell_type": "code",
   "execution_count": 19,
   "id": "183a755a-f2c4-44f5-a176-9a33e0301dc4",
   "metadata": {},
   "outputs": [
    {
     "name": "stdout",
     "output_type": "stream",
     "text": [
      "\u001b[4m\u001b[1mTrying to find similar movies\u001b[0m\n",
      "\u001b[1m\n",
      "Recommendation for movie : Forrest Gump\n",
      "\n",
      "\u001b[1m\u001b[92mShawshank Redemption, The (1994)\n",
      "\u001b[1m\u001b[92mJurassic Park (1993)\n",
      "\u001b[1m\u001b[92mPulp Fiction (1994)\n",
      "\u001b[1m\u001b[92mBraveheart (1995)\n",
      "\u001b[1m\u001b[92mSilence of the Lambs, The (1991)\n",
      "\u001b[1m\u001b[92mApollo 13 (1995)\n",
      "\u001b[1m\u001b[92mMatrix, The (1999)\n",
      "\u001b[1m\u001b[92mMrs. Doubtfire (1993)\n",
      "\u001b[1m\u001b[92mSchindler's List (1993)\n",
      "\u001b[1m\u001b[92mTerminator 2: Judgment Day (1991)\n",
      "\u001b[1m\u001b[92mLion King, The (1994)\n",
      "\u001b[1m\u001b[92mSeven (a.k.a. Se7en) (1995)\n",
      "\n",
      "Done\n"
     ]
    },
    {
     "data": {
      "text/plain": [
       "<__main__.MovieRecommender at 0x1db6b40a240>"
      ]
     },
     "execution_count": 19,
     "metadata": {},
     "output_type": "execute_result"
    }
   ],
   "source": [
    "MovieRecommender('Forrest Gump',number_of_recommend=12)"
   ]
  }
 ],
 "metadata": {
  "kernelspec": {
   "display_name": "Python 3 (ipykernel)",
   "language": "python",
   "name": "python3"
  },
  "language_info": {
   "codemirror_mode": {
    "name": "ipython",
    "version": 3
   },
   "file_extension": ".py",
   "mimetype": "text/x-python",
   "name": "python",
   "nbconvert_exporter": "python",
   "pygments_lexer": "ipython3",
   "version": "3.11.5"
  }
 },
 "nbformat": 4,
 "nbformat_minor": 5
}
